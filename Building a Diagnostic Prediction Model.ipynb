{
 "cells": [
  {
   "cell_type": "markdown",
   "metadata": {},
   "source": [
    "# Lab - Diabetes Classification Using PIMA Indian Dataset\n",
    "![Diabetes Classification](diabetes_classification.png)\n",
    "\n",
    "Estimated time needed: **30** minutes\n"
   ]
  },
  {
   "cell_type": "markdown",
   "metadata": {},
   "source": [
    "## Lab Objectives\n",
    "\n",
    "In this lab you will:\n",
    "\n",
    "1. **Load the PIMA Indian diabetes dataset** from a CSV file\n",
    "2. **Display the top 5 rows** to understand the data structure\n",
    "3. **Identify input features (X) and target variable (y)** for prediction\n",
    "4. **Choose a machine learning algorithm** suitable for medical diagnosis\n",
    "5. **Train the model** using the dataset\n",
    "6. **Print the accuracy** and evaluate model performance\n",
    "7. **Make predictions** on new patient data\n"
   ]
  },
  {
   "cell_type": "markdown",
   "metadata": {},
   "source": [
    "## About the Dataset\n",
    "\n",
    "The PIMA Indian Diabetes Dataset contains medical information about female patients of Pima Indian heritage, aged 21 and older. This dataset is widely used in medical machine learning research to predict diabetes onset.\n",
    "\n",
    "**Features include:**\n",
    "- Pregnancies: Number of times pregnant\n",
    "- Glucose: Plasma glucose concentration\n",
    "- BloodPressure: Diastolic blood pressure (mm Hg)\n",
    "- SkinThickness: Triceps skin fold thickness (mm)\n",
    "- Insulin: 2-Hour serum insulin (mu U/ml)\n",
    "- BMI: Body mass index (weight in kg/(height in m)^2)\n",
    "- DiabetesPedigreeFunction: Diabetes pedigree function (genetic factor)\n",
    "- Age: Age in years\n",
    "- Outcome: 0 (no diabetes) or 1 (diabetes)\n",
    "\n",
    "---"
   ]
  },
  {
   "cell_type": "markdown",
   "metadata": {},
   "source": [
    "## Step 1: Import Required Libraries\n",
    "\n",
    "First, you need to import the Python libraries that will help you work with data and machine learning. Think of these as specialized medical tools for data analysis."
   ]
  },
  {
   "cell_type": "code",
   "execution_count": null,
   "metadata": {},
   "outputs": [],
   "source": [
    "# Import pandas for data manipulation (like Excel for Python)\n",
    "import pandas as pd"
   ]
  },
  {
   "cell_type": "code",
   "execution_count": null,
   "metadata": {},
   "outputs": [],
   "source": [
    "# Import numpy for numerical operations\n",
    "import numpy as np"
   ]
  },
  {
   "cell_type": "code",
   "execution_count": null,
   "metadata": {},
   "outputs": [],
   "source": [
    "# Import machine learning tools from scikit-learn\n",
    "from sklearn.model_selection import train_test_split"
   ]
  },
  {
   "cell_type": "code",
   "execution_count": null,
   "metadata": {},
   "outputs": [],
   "source": [
    "# Import our machine learning algorithm\n",
    "from sklearn.ensemble import RandomForestClassifier"
   ]
  },
  {
   "cell_type": "code",
   "execution_count": null,
   "metadata": {},
   "outputs": [],
   "source": [
    "# Import evaluation metrics for measuring model performance\n",
    "from sklearn.metrics import accuracy_score, classification_report, confusion_matrix"
   ]
  },
  {
   "cell_type": "code",
   "execution_count": null,
   "metadata": {},
   "outputs": [],
   "source": [
    "# Import matplotlib for creating graphs and charts\n",
    "import matplotlib.pyplot as plt"
   ]
  },
  {
   "cell_type": "code",
   "execution_count": null,
   "metadata": {},
   "outputs": [],
   "source": [
    "# Import seaborn for better-looking statistical plots\n",
    "import seaborn as sns"
   ]
  },
  {
   "cell_type": "code",
   "execution_count": null,
   "metadata": {},
   "outputs": [],
   "source": [
    "# Set up the plotting style for better visualization\n",
    "plt.style.use('default')\n",
    "sns.set_palette(\"husl\")"
   ]
  },
  {
   "cell_type": "code",
   "execution_count": null,
   "metadata": {},
   "outputs": [],
   "source": [
    "# Confirm all libraries are loaded successfully\n",
    "print(\"All libraries imported successfully!\")\n",
    "print(\"Ready to begin diabetes classification analysis.\")"
   ]
  },
  {
   "cell_type": "markdown",
   "metadata": {},
   "source": [
    "## Step 2: Load Dataset from CSV File\n",
    "\n",
    "You will load the PIMA Indian diabetes dataset directly from a csv file."
   ]
  },
  {
   "cell_type": "code",
   "execution_count": null,
   "metadata": {},
   "outputs": [],
   "source": [
    "# Define the csv_file path where the dataset is stored on the disk\n",
    "csv_file = \"diabetes.csv\""
   ]
  },
  {
   "cell_type": "code",
   "execution_count": null,
   "metadata": {},
   "outputs": [],
   "source": [
    "# Load the dataset from csv file into a pandas DataFrame\n",
    "diabetes_data = pd.read_csv(csv_file)\n",
    "# Confirm dataset loaded successfully\n",
    "print(\"Dataset loaded successfully\")"
   ]
  },
  {
   "cell_type": "code",
   "execution_count": null,
   "metadata": {},
   "outputs": [],
   "source": [
    "# Display basic information about the dataset\n",
    "print(f\"Dataset contains {len(diabetes_data)} patient records.\")\n",
    "print(f\"Dataset contains {len(diabetes_data.columns)} features per patient.\")"
   ]
  },
  {
   "cell_type": "markdown",
   "metadata": {},
   "source": [
    "## Step 3: Display Top 5 Rows\n",
    "\n",
    "Let's examine the first few patient records to understand what our data looks like. This is similar to reviewing the first few patient files in a medical study."
   ]
  },
  {
   "cell_type": "code",
   "execution_count": null,
   "metadata": {},
   "outputs": [],
   "source": [
    "# Display the first 5 rows of the dataset\n",
    "print(\"=== FIRST 5 PATIENT RECORDS ===\")\n",
    "# Show the actual patient data\n",
    "diabetes_data.head()"
   ]
  },
  {
   "cell_type": "code",
   "execution_count": null,
   "metadata": {},
   "outputs": [],
   "source": [
    "# Display summary information about the dataset\n",
    "print(\"\\n=== DATASET INFORMATION ===\")\n",
    "print(f\"Total number of patients: {len(diabetes_data)}\")"
   ]
  },
  {
   "cell_type": "code",
   "execution_count": null,
   "metadata": {},
   "outputs": [],
   "source": [
    "# Count features and diabetes cases\n",
    "print(f\"Number of features per patient: {len(diabetes_data.columns) - 1}\")\n",
    "print(f\"Number of patients with diabetes: {sum(diabetes_data['Outcome'] == 1)}\")"
   ]
  },
  {
   "cell_type": "code",
   "execution_count": null,
   "metadata": {},
   "outputs": [],
   "source": [
    "# Count patients without diabetes\n",
    "print(f\"Number of patients without diabetes: {sum(diabetes_data['Outcome'] == 0)}\")"
   ]
  },
  {
   "cell_type": "markdown",
   "metadata": {},
   "source": [
    "## Additional Data Exploration\n",
    "\n",
    "Let's get a better understanding of our patient data by looking at basic statistics and checking for any data quality issues."
   ]
  },
  {
   "cell_type": "code",
   "execution_count": null,
   "metadata": {},
   "outputs": [],
   "source": [
    "# Display basic statistical information about each feature\n",
    "print(\"=== BASIC STATISTICS FOR ALL FEATURES ===\")\n",
    "diabetes_data.describe()"
   ]
  },
  {
   "cell_type": "code",
   "execution_count": null,
   "metadata": {},
   "outputs": [],
   "source": [
    "# Check for missing values (important in medical data)\n",
    "print(\"\\n=== MISSING VALUES CHECK ===\")\n",
    "missing_values = diabetes_data.isnull().sum()"
   ]
  },
  {
   "cell_type": "code",
   "execution_count": null,
   "metadata": {},
   "outputs": [],
   "source": [
    "# Report on missing values status\n",
    "if missing_values.sum() == 0:\n",
    "    print(\"Good news: No missing values found in the dataset.\")\n",
    "else:\n",
    "    print(\"Missing values found:\", missing_values[missing_values > 0])"
   ]
  },
  {
   "cell_type": "markdown",
   "metadata": {},
   "source": [
    "## Step 4: Identify Input Features (X) and Target Variable (y)\n",
    "\n",
    "In medical prediction, separate:\n",
    "- **Input features (X)**: The medical measurements you use to make predictions (like symptoms and test results)\n",
    "- **Target variable (y)**: What you want to predict (diabetes diagnosis: yes or no)"
   ]
  },
  {
   "cell_type": "code",
   "execution_count": null,
   "metadata": {},
   "outputs": [],
   "source": [
    "# X contains all the medical measurements (features) you will use for prediction\n",
    "X = diabetes_data.drop(columns=['Outcome'])"
   ]
  },
  {
   "cell_type": "code",
   "execution_count": null,
   "metadata": {},
   "outputs": [],
   "source": [
    "# y contains the diagnosis results (0 = no diabetes, 1 = diabetes)\n",
    "y = diabetes_data['Outcome']"
   ]
  },
  {
   "cell_type": "code",
   "execution_count": null,
   "metadata": {},
   "outputs": [],
   "source": [
    "# Display information about input features\n",
    "print(\"=== INPUT FEATURES (X) ===\")\n",
    "print(\"These are the medical measurements you will use to predict diabetes:\")"
   ]
  },
  {
   "cell_type": "code",
   "execution_count": null,
   "metadata": {},
   "outputs": [],
   "source": [
    "# List all feature names\n",
    "print(list(X.columns))"
   ]
  },
  {
   "cell_type": "code",
   "execution_count": null,
   "metadata": {},
   "outputs": [],
   "source": [
    "# Display shape information for X\n",
    "print(f\"\\nShape of X (features): {X.shape}\")\n",
    "print(f\"This means you have {X.shape[0]} patients and {X.shape[1]} measurements per patient.\")"
   ]
  },
  {
   "cell_type": "code",
   "execution_count": null,
   "metadata": {},
   "outputs": [],
   "source": [
    "# Display information about target variable\n",
    "print(\"\\n=== TARGET VARIABLE (y) ===\")\n",
    "print(\"This is what you want to predict (diabetes diagnosis):\")"
   ]
  },
  {
   "cell_type": "code",
   "execution_count": null,
   "metadata": {},
   "outputs": [],
   "source": [
    "# Display shape and unique values for y\n",
    "print(f\"Shape of y (target): {y.shape}\")\n",
    "print(f\"Unique values in y: {sorted(y.unique())} (0=No Diabetes, 1=Diabetes)\")"
   ]
  },
  {
   "cell_type": "code",
   "execution_count": null,
   "metadata": {},
   "outputs": [],
   "source": [
    "# Show examples of features and targets\n",
    "print(\"\\n=== FIRST 5 EXAMPLES ===\")\n",
    "print(\"Features for first 5 patients:\")"
   ]
  },
  {
   "cell_type": "code",
   "execution_count": null,
   "metadata": {},
   "outputs": [],
   "source": [
    "# Display first 5 feature rows\n",
    "X.head()"
   ]
  },
  {
   "cell_type": "code",
   "execution_count": null,
   "metadata": {},
   "outputs": [],
   "source": [
    "# Display corresponding diagnoses\n",
    "print(\"\\nCorresponding diagnoses:\")\n",
    "print(y.head().values)"
   ]
  },
  {
   "cell_type": "markdown",
   "metadata": {},
   "source": [
    "## Step 5: Choose Machine Learning Algorithm\n",
    "\n",
    "For medical diagnosis, we'll use **Random Forest Classifier**. This algorithm is:\n",
    "- **Reliable**: Combines multiple decision trees for better accuracy\n",
    "- **Interpretable**: Can show which medical features are most important\n",
    "- **Robust**: Works well with medical datasets\n",
    "- **Handles complexity**: Can capture complex relationships between symptoms\n"
   ]
  },
  {
   "cell_type": "code",
   "execution_count": null,
   "metadata": {},
   "outputs": [],
   "source": [
    "# Split the data into training and testing sets\n",
    "X_train, X_test, y_train, y_test = train_test_split(X, y, test_size=0.2, random_state=42, stratify=y)"
   ]
  },
  {
   "cell_type": "code",
   "execution_count": null,
   "metadata": {},
   "outputs": [],
   "source": [
    "# Display data split information\n",
    "print(\"=== DATA SPLIT INFORMATION ===\")\n",
    "print(f\"Training set size: {len(X_train)} patients ({len(X_train)/len(diabetes_data)*100:.1f}%)\")"
   ]
  },
  {
   "cell_type": "code",
   "execution_count": null,
   "metadata": {},
   "outputs": [],
   "source": [
    "# Display testing set size\n",
    "print(f\"Testing set size: {len(X_test)} patients ({len(X_test)/len(diabetes_data)*100:.1f}%)\")"
   ]
  },
  {
   "cell_type": "code",
   "execution_count": null,
   "metadata": {},
   "outputs": [],
   "source": [
    "# Calculate training set diagnosis distribution\n",
    "train_diabetes_count = sum(y_train == 1)\n",
    "train_no_diabetes_count = sum(y_train == 0)"
   ]
  },
  {
   "cell_type": "code",
   "execution_count": null,
   "metadata": {},
   "outputs": [],
   "source": [
    "# Display training set distribution\n",
    "print(\"\\n=== TRAINING SET DIAGNOSIS DISTRIBUTION ===\")\n",
    "print(f\"Patients with diabetes: {train_diabetes_count}\")\n",
    "print(f\"Patients without diabetes: {train_no_diabetes_count}\")"
   ]
  },
  {
   "cell_type": "code",
   "execution_count": null,
   "metadata": {},
   "outputs": [],
   "source": [
    "# Calculate testing set diagnosis distribution\n",
    "test_diabetes_count = sum(y_test == 1)\n",
    "test_no_diabetes_count = sum(y_test == 0)"
   ]
  },
  {
   "cell_type": "code",
   "execution_count": null,
   "metadata": {},
   "outputs": [],
   "source": [
    "# Display testing set distribution\n",
    "print(\"\\n=== TESTING SET DIAGNOSIS DISTRIBUTION ===\")\n",
    "print(f\"Patients with diabetes: {test_diabetes_count}\")\n",
    "print(f\"Patients without diabetes: {test_no_diabetes_count}\")"
   ]
  },
  {
   "cell_type": "code",
   "execution_count": null,
   "metadata": {},
   "outputs": [],
   "source": [
    "# Initialize the Random Forest Classifier\n",
    "model = RandomForestClassifier(n_estimators=100, random_state=42, max_depth=10)"
   ]
  },
  {
   "cell_type": "code",
   "execution_count": null,
   "metadata": {},
   "outputs": [],
   "source": [
    "# Display algorithm selection information\n",
    "print(\"\\n=== ALGORITHM SELECTED ===\")\n",
    "print(\"Random Forest Classifier initialized with:\")"
   ]
  },
  {
   "cell_type": "code",
   "execution_count": null,
   "metadata": {},
   "outputs": [],
   "source": [
    "# Display model configuration details\n",
    "print(\"- 100 decision trees (expert diagnosticians)\")\n",
    "print(\"- Maximum depth of 10 levels\")\n",
    "print(\"- Random state set for reproducible results\")"
   ]
  },
  {
   "cell_type": "markdown",
   "metadata": {},
   "source": [
    "## Step 6: Train the Model\n",
    "\n",
    "Now you will train our machine learning model using the training data. This is like teaching a medical diagnostic system using historical patient records and their known outcomes."
   ]
  },
  {
   "cell_type": "code",
   "execution_count": null,
   "metadata": {},
   "outputs": [],
   "source": [
    "# Display training start message\n",
    "print(\"=== TRAINING THE MODEL ===\")\n",
    "print(\"Training in progress... (This may take a few seconds)\")\n",
    "# Train the model using the training data\n",
    "model.fit(X_train, y_train)\n",
    "# Confirm training completion\n",
    "print(\"Model training completed successfully!\")"
   ]
  },
  {
   "cell_type": "code",
   "execution_count": null,
   "metadata": {},
   "outputs": [],
   "source": [
    "print(\"\\nThe algorithm has learned to recognize patterns in:\")\n",
    "# Display all features the model learned from\n",
    "for i, feature in enumerate(X.columns, 1):\n",
    "    print(f\"{i}. {feature}\")"
   ]
  },
  {
   "cell_type": "code",
   "execution_count": null,
   "metadata": {},
   "outputs": [],
   "source": [
    "# Display training summary\n",
    "print(\"\\n=== TRAINING SUMMARY ===\")\n",
    "print(f\"Number of patients used for training: {len(X_train)}\")\n",
    "# Display additional training details\n",
    "print(f\"Number of medical features analyzed: {len(X.columns)}\")\n",
    "print(f\"Number of decision trees created: {model.n_estimators}\")\n",
    "# Confirm model readiness\n",
    "print(\"The model is now ready to make diabetes predictions!\")"
   ]
  },
  {
   "cell_type": "markdown",
   "metadata": {},
   "source": [
    "## Step 7: Print Accuracy and Evaluate Performance\n",
    "\n",
    "Let's test our trained model on patients it has never seen before and measure how accurate its diagnoses are."
   ]
  },
  {
   "cell_type": "code",
   "execution_count": null,
   "metadata": {},
   "outputs": [],
   "source": [
    "# Make predictions on the test set\n",
    "y_pred = model.predict(X_test)"
   ]
  },
  {
   "cell_type": "code",
   "execution_count": null,
   "metadata": {},
   "outputs": [],
   "source": [
    "# Calculate accuracy\n",
    "accuracy = accuracy_score(y_test, y_pred)"
   ]
  },
  {
   "cell_type": "code",
   "execution_count": null,
   "metadata": {},
   "outputs": [],
   "source": [
    "# Display model performance results\n",
    "print(\"=== MODEL PERFORMANCE RESULTS ===\")\n",
    "print(f\"Overall Accuracy: {accuracy:.3f} ({accuracy*100:.1f}%)\")"
   ]
  },
  {
   "cell_type": "code",
   "execution_count": null,
   "metadata": {},
   "outputs": [],
   "source": [
    "# Explain accuracy meaning\n",
    "print(f\"This means the model correctly diagnosed {accuracy*100:.1f}% of patients.\")"
   ]
  },
  {
   "cell_type": "code",
   "execution_count": null,
   "metadata": {},
   "outputs": [],
   "source": [
    "# Calculate detailed prediction statistics\n",
    "correct_predictions = sum(y_pred == y_test)\n",
    "total_predictions = len(y_test)\n",
    "incorrect_predictions = total_predictions - correct_predictions"
   ]
  },
  {
   "cell_type": "code",
   "execution_count": null,
   "metadata": {},
   "outputs": [],
   "source": [
    "# Display detailed results\n",
    "print(f\"\\n=== DETAILED RESULTS ===\")\n",
    "print(f\"Total patients tested: {total_predictions}\")"
   ]
  },
  {
   "cell_type": "code",
   "execution_count": null,
   "metadata": {},
   "outputs": [],
   "source": [
    "# Display correct and incorrect predictions\n",
    "print(f\"Correct diagnoses: {correct_predictions}\")\n",
    "print(f\"Incorrect diagnoses: {incorrect_predictions}\")"
   ]
  },
  {
   "cell_type": "code",
   "execution_count": null,
   "metadata": {},
   "outputs": [],
   "source": [
    "# Display classification report header\n",
    "print(\"\\n=== DETAILED CLASSIFICATION REPORT ===\")\n",
    "print(\"This report shows precision, recall, and F1-score for each diagnosis:\")"
   ]
  },
  {
   "cell_type": "code",
   "execution_count": null,
   "metadata": {},
   "outputs": [],
   "source": [
    "# Generate and display classification report\n",
    "target_names = ['No Diabetes (0)', 'Diabetes (1)']\n",
    "report = classification_report(y_test, y_pred, target_names=target_names)\n",
    "print(report)"
   ]
  },
  {
   "cell_type": "markdown",
   "metadata": {},
   "source": [
    "## Confusion Matrix Visualization\n",
    "\n",
    "A confusion matrix helps medical professionals understand exactly where the diagnostic system makes correct and incorrect predictions."
   ]
  },
  {
   "cell_type": "code",
   "execution_count": null,
   "metadata": {},
   "outputs": [],
   "source": [
    "# Create confusion matrix\n",
    "cm = confusion_matrix(y_test, y_pred)"
   ]
  },
  {
   "cell_type": "code",
   "execution_count": null,
   "metadata": {},
   "outputs": [],
   "source": [
    "# Create figure for confusion matrix visualization\n",
    "plt.figure(figsize=(8, 6))\n",
    "# Create heatmap for confusion matrix\n",
    "sns.heatmap(cm, annot=True, fmt='d', cmap='Blues', \n",
    "            xticklabels=['Predicted: No Diabetes', 'Predicted: Diabetes'],\n",
    "            yticklabels=['Actual: No Diabetes', 'Actual: Diabetes'])\n",
    "# Add title and labels to confusion matrix\n",
    "plt.title('Confusion Matrix: Diabetes Prediction Results', fontsize=14, fontweight='bold')\n",
    "plt.ylabel('Actual Diagnosis', fontsize=12)\n",
    "plt.xlabel('Predicted Diagnosis', fontsize=12)\n",
    "# Display the confusion matrix plot\n",
    "plt.tight_layout()\n",
    "plt.show()"
   ]
  },
  {
   "cell_type": "code",
   "execution_count": null,
   "metadata": {},
   "outputs": [],
   "source": [
    "# Extract confusion matrix values\n",
    "tn, fp, fn, tp = cm.ravel()"
   ]
  },
  {
   "cell_type": "code",
   "execution_count": null,
   "metadata": {},
   "outputs": [],
   "source": [
    "# Display confusion matrix explanation\n",
    "print(\"=== CONFUSION MATRIX EXPLANATION ===\")\n",
    "print(f\"True Negatives (TN): {tn} - Correctly identified patients WITHOUT diabetes\")"
   ]
  },
  {
   "cell_type": "code",
   "execution_count": null,
   "metadata": {},
   "outputs": [],
   "source": [
    "# Continue confusion matrix explanation\n",
    "print(f\"True Positives (TP): {tp} - Correctly identified patients WITH diabetes\")\n",
    "print(f\"False Positives (FP): {fp} - Incorrectly diagnosed diabetes (false alarm)\")"
   ]
  },
  {
   "cell_type": "code",
   "execution_count": null,
   "metadata": {},
   "outputs": [],
   "source": [
    "# Complete confusion matrix explanation\n",
    "print(f\"False Negatives (FN): {fn} - Missed diabetes cases (dangerous!)\")"
   ]
  },
  {
   "cell_type": "code",
   "execution_count": null,
   "metadata": {},
   "outputs": [],
   "source": [
    "# Calculate sensitivity and specificity\n",
    "sensitivity = tp / (tp + fn) if (tp + fn) > 0 else 0\n",
    "specificity = tn / (tn + fp) if (tn + fp) > 0 else 0"
   ]
  },
  {
   "cell_type": "code",
   "execution_count": null,
   "metadata": {},
   "outputs": [],
   "source": [
    "# Display clinical performance metrics\n",
    "print(f\"\\n=== CLINICAL PERFORMANCE METRICS ===\")\n",
    "print(f\"Sensitivity (True Positive Rate): {sensitivity:.3f} ({sensitivity*100:.1f}%)\")"
   ]
  },
  {
   "cell_type": "code",
   "execution_count": null,
   "metadata": {},
   "outputs": [],
   "source": [
    "# Explain sensitivity\n",
    "print(f\"  - This is the percentage of diabetes cases correctly identified\")\n",
    "print(f\"Specificity (True Negative Rate): {specificity:.3f} ({specificity*100:.1f}%)\")"
   ]
  },
  {
   "cell_type": "code",
   "execution_count": null,
   "metadata": {},
   "outputs": [],
   "source": [
    "# Explain specificity\n",
    "print(f\"  - This is the percentage of healthy patients correctly identified\")"
   ]
  },
  {
   "cell_type": "markdown",
   "metadata": {},
   "source": [
    "## Feature Importance Analysis\n",
    "\n",
    "Let's see which medical features are most important for diabetes prediction according to our model."
   ]
  },
  {
   "cell_type": "code",
   "execution_count": null,
   "metadata": {},
   "outputs": [],
   "source": [
    "# Get feature importance scores\n",
    "feature_importance = model.feature_importances_\n",
    "feature_names = X.columns"
   ]
  },
  {
   "cell_type": "code",
   "execution_count": null,
   "metadata": {},
   "outputs": [],
   "source": [
    "# Create DataFrame for feature importance\n",
    "importance_df = pd.DataFrame({\n",
    "    'Feature': feature_names,\n",
    "    'Importance': feature_importance\n",
    "})"
   ]
  },
  {
   "cell_type": "code",
   "execution_count": null,
   "metadata": {},
   "outputs": [],
   "source": [
    "# Sort features by importance\n",
    "importance_df = importance_df.sort_values('Importance', ascending=False)"
   ]
  },
  {
   "cell_type": "code",
   "execution_count": null,
   "metadata": {},
   "outputs": [],
   "source": [
    "# Display feature importance ranking header\n",
    "print(\"=== FEATURE IMPORTANCE RANKING ===\")\n",
    "print(\"Most important medical features for diabetes prediction:\")"
   ]
  },
  {
   "cell_type": "code",
   "execution_count": null,
   "metadata": {},
   "outputs": [],
   "source": [
    "# Display each feature with its importance\n",
    "for i, (_, row) in enumerate(importance_df.iterrows(), 1):\n",
    "    print(f\"{i}. {row['Feature']}: {row['Importance']:.3f} ({row['Importance']*100:.1f}%)\")"
   ]
  },
  {
   "cell_type": "code",
   "execution_count": null,
   "metadata": {},
   "outputs": [],
   "source": [
    "# Create figure for feature importance visualization\n",
    "plt.figure(figsize=(10, 6))\n",
    "# Create bar plot for feature importance\n",
    "sns.barplot(data=importance_df, x='Importance', y='Feature', palette='viridis', hue='Importance')\n",
    "# Add title and labels to feature importance plot\n",
    "plt.title('Medical Feature Importance for Diabetes Prediction', fontsize=14, fontweight='bold')\n",
    "plt.xlabel('Importance Score', fontsize=12)\n",
    "plt.ylabel('Medical Features', fontsize=12)\n",
    "# Display the feature importance plot\n",
    "plt.tight_layout()\n",
    "plt.show()"
   ]
  },
  {
   "cell_type": "code",
   "execution_count": null,
   "metadata": {},
   "outputs": [],
   "source": [
    "# Get top 3 most important features\n",
    "top_3_features = importance_df.head(3)\n",
    "\n",
    "# Display clinical insights header\n",
    "print(f\"\\n=== CLINICAL INSIGHTS ===\")\n",
    "print(f\"The top 3 most predictive features are:\")\n",
    "\n",
    "# Display top 3 features with their contributions\n",
    "for i, (_, row) in enumerate(top_3_features.iterrows(), 1):\n",
    "    print(f\"{i}. {row['Feature']} (contributes {row['Importance']*100:.1f}% to the prediction)\")"
   ]
  },
  {
   "cell_type": "markdown",
   "metadata": {},
   "source": [
    "## Step 8: Make Predictions on New Patients\n",
    "\n",
    "Now let's use our trained model to make predictions for new patients. This simulates how the system would work in a clinical setting."
   ]
  },
  {
   "cell_type": "code",
   "execution_count": null,
   "metadata": {},
   "outputs": [],
   "source": [
    "# Create example patient data for demonstration\n",
    "new_patients = pd.DataFrame({\n",
    "    'Pregnancies': [1, 0, 3, 8],\n",
    "    'Glucose': [85, 180, 110, 190],\n",
    "    'BloodPressure': [66, 90, 70, 92]\n",
    "})"
   ]
  },
  {
   "cell_type": "code",
   "execution_count": null,
   "metadata": {},
   "outputs": [],
   "source": [
    "# Add remaining patient features\n",
    "new_patients['SkinThickness'] = [29, 35, 25, 40]\n",
    "new_patients['Insulin'] = [0, 200, 80, 250]\n",
    "new_patients['BMI'] = [26.6, 34.5, 28.2, 38.1]"
   ]
  },
  {
   "cell_type": "code",
   "execution_count": null,
   "metadata": {},
   "outputs": [],
   "source": [
    "# Complete patient features\n",
    "new_patients['DiabetesPedigreeFunction'] = [0.351, 0.627, 0.314, 0.835]\n",
    "new_patients['Age'] = [31, 45, 28, 55]"
   ]
  },
  {
   "cell_type": "code",
   "execution_count": null,
   "metadata": {},
   "outputs": [],
   "source": [
    "# Display new patient data header\n",
    "print(\"=== NEW PATIENT DATA ===\")\n",
    "print(\"Medical information for 4 new patients:\")"
   ]
  },
  {
   "cell_type": "code",
   "execution_count": null,
   "metadata": {},
   "outputs": [],
   "source": [
    "# Display the new patient data\n",
    "new_patients.head()"
   ]
  },
  {
   "cell_type": "code",
   "execution_count": null,
   "metadata": {},
   "outputs": [],
   "source": [
    "# Make predictions for new patients\n",
    "predictions = model.predict(new_patients)\n",
    "prediction_probabilities = model.predict_proba(new_patients)"
   ]
  },
  {
   "cell_type": "code",
   "execution_count": null,
   "metadata": {},
   "outputs": [],
   "source": [
    "# Display predictions header\n",
    "print(\"\\n=== DIABETES PREDICTIONS ===\")\n",
    "print()"
   ]
  },
  {
   "cell_type": "code",
   "execution_count": null,
   "metadata": {},
   "outputs": [],
   "source": [
    "# Display prediction for first patient\n",
    "patient_id = 1\n",
    "prediction = predictions[0]\n",
    "prob_no_diabetes = prediction_probabilities[0][0]\n",
    "prob_diabetes = prediction_probabilities[0][1]"
   ]
  },
  {
   "cell_type": "code",
   "execution_count": null,
   "metadata": {},
   "outputs": [],
   "source": [
    "# Format and display first patient results\n",
    "diagnosis = \"DIABETES DETECTED\" if prediction == 1 else \"NO DIABETES\"\n",
    "confidence = max(prob_no_diabetes, prob_diabetes)\n",
    "print(f\"Patient {patient_id}: {diagnosis} (Confidence: {confidence:.1%})\")"
   ]
  },
  {
   "cell_type": "code",
   "execution_count": null,
   "metadata": {},
   "outputs": [],
   "source": [
    "# Display all patient predictions in a loop\n",
    "for i in range(len(new_patients)):\n",
    "    patient_id = i + 1\n",
    "    prediction = predictions[i]\n",
    "    prob_no_diabetes = prediction_probabilities[i][0]"
   ]
  },
  {
   "cell_type": "code",
   "execution_count": null,
   "metadata": {},
   "outputs": [],
   "source": [
    "# Continue displaying predictions for all patients\n",
    "for i in range(len(new_patients)):\n",
    "    patient_id = i + 1\n",
    "    prediction = predictions[i]\n",
    "    prob_diabetes = prediction_probabilities[i][1]\n",
    "    diagnosis = \"DIABETES DETECTED\" if prediction == 1 else \"NO DIABETES\""
   ]
  },
  {
   "cell_type": "code",
   "execution_count": null,
   "metadata": {},
   "outputs": [],
   "source": [
    "# Display detailed results for each patient\n",
    "for i in range(len(new_patients)):\n",
    "    patient_id = i + 1\n",
    "    prediction = predictions[i]\n",
    "    prob_no_diabetes = prediction_probabilities[i][0]\n",
    "    prob_diabetes = prediction_probabilities[i][1]\n",
    "    \n",
    "    diagnosis = \"DIABETES DETECTED\" if prediction == 1 else \"NO DIABETES\"\n",
    "    confidence = max(prob_no_diabetes, prob_diabetes)\n",
    "    \n",
    "    print(f\"Patient {patient_id}:\")\n",
    "    print(f\"  Diagnosis: {diagnosis}\")\n",
    "    print(f\"  Confidence: {confidence:.1%}\")\n",
    "    print(f\"  Probability of No Diabetes: {prob_no_diabetes:.1%}\")\n",
    "    print(f\"  Probability of Diabetes: {prob_diabetes:.1%}\")\n",
    "    print()"
   ]
  },
  {
   "cell_type": "markdown",
   "metadata": {},
   "source": [
    "## Interactive Prediction Function\n",
    "\n",
    "Here's a function that medical professionals can use to make predictions for individual patients by entering their medical measurements."
   ]
  },
  {
   "cell_type": "code",
   "execution_count": null,
   "metadata": {},
   "outputs": [],
   "source": [
    "# Define prediction function for individual patients\n",
    "def predict_diabetes_for_patient(pregnancies, glucose, blood_pressure, skin_thickness, \n",
    "                               insulin, bmi, diabetes_pedigree, age):\n",
    "    # Create DataFrame with patient data\n",
    "    patient_data = pd.DataFrame({\n",
    "        'Pregnancies': [pregnancies], 'Glucose': [glucose], 'BloodPressure': [blood_pressure],\n",
    "        'SkinThickness': [skin_thickness], 'Insulin': [insulin], 'BMI': [bmi],\n",
    "        'DiabetesPedigreeFunction': [diabetes_pedigree], 'Age': [age]\n",
    "    })\n",
    "    \n",
    "    # Make prediction and get probabilities\n",
    "    prediction = model.predict(patient_data)[0]\n",
    "    probabilities = model.predict_proba(patient_data)[0]\n",
    "    \n",
    "    # Format and display results\n",
    "    diagnosis = \"DIABETES DETECTED\" if prediction == 1 else \"NO DIABETES DETECTED\"\n",
    "    confidence = max(probabilities)\n",
    "    \n",
    "    print(\"=== PATIENT DIAGNOSIS REPORT ===\")\n",
    "    print(f\"Diagnosis: {diagnosis}\")\n",
    "    print(f\"Confidence Level: {confidence:.1%}\")\n",
    "    print(f\"Probability of No Diabetes: {probabilities[0]:.1%}\")\n",
    "    print(f\"Probability of Diabetes: {probabilities[1]:.1%}\")\n",
    "    \n",
    "    if prediction == 1:\n",
    "        print(\"\\nCLINICAL RECOMMENDATION: Further medical evaluation recommended.\")\n",
    "    else:\n",
    "        print(\"\\nCLINICAL RECOMMENDATION: Continue routine monitoring.\")\n",
    "    \n",
    "    return prediction, probabilities"
   ]
  },
  {
   "cell_type": "code",
   "execution_count": null,
   "metadata": {},
   "outputs": [],
   "source": [
    "# Display example usage header\n",
    "print(\"=== EXAMPLE: PREDICTING FOR A SAMPLE PATIENT ===\")\n",
    "print(\"Patient Profile: 35-year-old female, 2 pregnancies, glucose=120, BMI=28.5\")"
   ]
  },
  {
   "cell_type": "code",
   "execution_count": null,
   "metadata": {},
   "outputs": [],
   "source": [
    "# Use the prediction function with example patient data\n",
    "result = predict_diabetes_for_patient(\n",
    "    pregnancies=2, glucose=120, blood_pressure=75, skin_thickness=25,\n",
    "    insulin=100, bmi=28.5, diabetes_pedigree=0.4, age=35\n",
    ")"
   ]
  },
  {
   "cell_type": "markdown",
   "metadata": {},
   "source": [
    "## Summary and Clinical Applications\n",
    "\n",
    "Let's summarize what we've accomplished in this lab and discuss clinical applications."
   ]
  },
  {
   "cell_type": "code",
   "execution_count": null,
   "metadata": {},
   "outputs": [],
   "source": [
    "# Display lab summary header\n",
    "print(\"=== LAB SUMMARY ===\")\n",
    "print(\"\\nSuccessfully completed all lab objectives:\")"
   ]
  },
  {
   "cell_type": "code",
   "execution_count": null,
   "metadata": {},
   "outputs": [],
   "source": [
    "# Summarize dataset loading accomplishment\n",
    "print(\"\\n1. DATASET LOADING:\")\n",
    "print(f\"   - Loaded {len(diabetes_data)} patient records from csv file\")\n",
    "print(f\"   - Dataset contains {len(diabetes_data.columns)-1} medical features\")"
   ]
  },
  {
   "cell_type": "code",
   "execution_count": null,
   "metadata": {},
   "outputs": [],
   "source": [
    "# Summarize data exploration\n",
    "print(\"\\n2. DATA EXPLORATION:\")\n",
    "print(\"   - Displayed and analyzed patient data structure\")\n",
    "print(\"   - Identified data quality and distribution\")"
   ]
  },
  {
   "cell_type": "code",
   "execution_count": null,
   "metadata": {},
   "outputs": [],
   "source": [
    "# Summarize feature identification\n",
    "print(\"\\n3. FEATURE IDENTIFICATION:\")\n",
    "print(f\"   - Input features (X): {len(X.columns)} medical measurements\")\n",
    "print(\"   - Target variable (y): Diabetes diagnosis (0/1)\")"
   ]
  },
  {
   "cell_type": "code",
   "execution_count": null,
   "metadata": {},
   "outputs": [],
   "source": [
    "# Summarize algorithm selection and training\n",
    "print(\"\\n4. ALGORITHM SELECTION:\")\n",
    "print(\"   - Chose Random Forest Classifier\")\n",
    "print(\"   - Configured for medical diagnosis accuracy\")"
   ]
  },
  {
   "cell_type": "code",
   "execution_count": null,
   "metadata": {},
   "outputs": [],
   "source": [
    "# Summarize model training\n",
    "print(\"\\n5. MODEL TRAINING:\")\n",
    "print(f\"   - Trained on {len(X_train)} patient records\")\n",
    "print(\"   - Used 100 decision trees for robust predictions\")"
   ]
  },
  {
   "cell_type": "code",
   "execution_count": null,
   "metadata": {},
   "outputs": [],
   "source": [
    "# Summarize performance evaluation\n",
    "print(\"\\n6. PERFORMANCE EVALUATION:\")\n",
    "print(f\"   - Overall accuracy: {accuracy:.1%}\")\n",
    "print(f\"   - Sensitivity: {sensitivity:.1%} (diabetes detection rate)\")\n",
    "print(f\"   - Specificity: {specificity:.1%} (healthy patient identification)\")"
   ]
  },
  {
   "cell_type": "code",
   "execution_count": null,
   "metadata": {},
   "outputs": [],
   "source": [
    "# Summarize prediction capability\n",
    "print(\"\\n7. PREDICTION CAPABILITY:\")\n",
    "print(\"   - Successfully demonstrated predictions on new patients\")\n",
    "print(\"   - Provided probability scores for clinical decision-making\")"
   ]
  },
  {
   "cell_type": "code",
   "execution_count": null,
   "metadata": {},
   "outputs": [],
   "source": [
    "# Display clinical applications\n",
    "print(\"\\n=== CLINICAL APPLICATIONS ===\")\n",
    "print(\"\\nThis diabetes prediction model can assist medical professionals by:\")"
   ]
  },
  {
   "cell_type": "code",
   "execution_count": null,
   "metadata": {},
   "outputs": [],
   "source": [
    "# List clinical applications\n",
    "print(\"\\n• SCREENING: Identify high-risk patients during routine checkups\")\n",
    "print(\"• PRIORITIZATION: Focus resources on patients most likely to have diabetes\")\n",
    "print(\"• EARLY DETECTION: Catch diabetes cases before symptoms become severe\")"
   ]
  },
  {
   "cell_type": "code",
   "execution_count": null,
   "metadata": {},
   "outputs": [],
   "source": [
    "# Continue listing clinical applications\n",
    "print(\"• DECISION SUPPORT: Provide data-driven insights alongside clinical judgment\")\n",
    "print(\"• POPULATION HEALTH: Monitor diabetes prevalence in patient populations\")"
   ]
  },
  {
   "cell_type": "code",
   "execution_count": null,
   "metadata": {},
   "outputs": [],
   "source": [
    "# Display important clinical notes\n",
    "print(\"\\n=== IMPORTANT CLINICAL NOTES ===\")\n",
    "print(\"\\nThis model is a DECISION SUPPORT TOOL, not a replacement for clinical judgment\")\n",
    "print(\"Always combine AI predictions with comprehensive medical evaluation\")"
   ]
  },
  {
   "cell_type": "code",
   "execution_count": null,
   "metadata": {},
   "outputs": [],
   "source": [
    "# Complete clinical notes\n",
    "print(\"Consider patient history, symptoms, and additional tests for final diagnosis\")\n",
    "print(\"Regular model retraining with new data is recommended for optimal performance\")"
   ]
  },
  {
   "cell_type": "code",
   "execution_count": null,
   "metadata": {},
   "outputs": [],
   "source": [
    "# Display final completion message\n",
    "print(\"\\n\" + \"=\"*60)\n",
    "print(\"LAB COMPLETED SUCCESSFULLY!\")\n",
    "print(\"You now have a working diabetes prediction system.\")\n",
    "print(\"=\"*60)"
   ]
  },
  {
   "cell_type": "markdown",
   "metadata": {},
   "source": [
    "## Authors\n"
   ]
  },
  {
   "cell_type": "markdown",
   "metadata": {},
   "source": [
    "[Ramesh Sannareddy](https://www.linkedin.com/in/rsannareddy/)\n"
   ]
  },
  {
   "cell_type": "markdown",
   "metadata": {},
   "source": [
    "Copyright © 2025 Skillup Corporation. All rights reserved.\n"
   ]
  }
 ],
 "metadata": {
  "kernelspec": {
   "display_name": "Python 3 (ipykernel)",
   "language": "python",
   "name": "python3"
  },
  "language_info": {
   "codemirror_mode": {
    "name": "ipython",
    "version": 3
   },
   "file_extension": ".py",
   "mimetype": "text/x-python",
   "name": "python",
   "nbconvert_exporter": "python",
   "pygments_lexer": "ipython3",
   "version": "3.13.3"
  }
 },
 "nbformat": 4,
 "nbformat_minor": 4
}
